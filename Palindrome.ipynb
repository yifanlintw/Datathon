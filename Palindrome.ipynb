{
 "cells": [
  {
   "cell_type": "code",
   "execution_count": 3,
   "metadata": {},
   "outputs": [
    {
     "name": "stdout",
     "output_type": "stream",
     "text": [
      "Please enter a string:\n",
      "non\n",
      "Yes, it's a palindrome\n"
     ]
    }
   ],
   "source": [
    "# If a string is a palindrome\n",
    "def ispalindrome(value):\n",
    "    return value == value[::-1]\n",
    "    \n",
    "value = input(\"Please enter a string:\\n\")\n",
    "ans = ispalindrome(value)\n",
    "if ans: \n",
    "    print(\"Yes, it's a palindrome.\")\n",
    "else: \n",
    "    print(\"No, it's not a palindrome.\")"
   ]
  },
  {
   "cell_type": "code",
   "execution_count": null,
   "metadata": {},
   "outputs": [],
   "source": []
  }
 ],
 "metadata": {
  "kernelspec": {
   "display_name": "Python 3",
   "language": "python",
   "name": "python3"
  },
  "language_info": {
   "codemirror_mode": {
    "name": "ipython",
    "version": 3
   },
   "file_extension": ".py",
   "mimetype": "text/x-python",
   "name": "python",
   "nbconvert_exporter": "python",
   "pygments_lexer": "ipython3",
   "version": "3.7.3"
  }
 },
 "nbformat": 4,
 "nbformat_minor": 2
}
